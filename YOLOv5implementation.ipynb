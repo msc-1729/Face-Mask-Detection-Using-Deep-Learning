{
 "cells": [
  {
   "cell_type": "markdown",
   "metadata": {},
   "source": [
    "* # Setup the Environment\n",
    "We are going to use YOLOv5 model for training.\n",
    "so lets clone and install the YOLO from github repo"
   ]
  },
  {
   "cell_type": "code",
   "execution_count": 121,
   "metadata": {
    "execution": {
     "iopub.execute_input": "2022-12-03T06:25:18.766746Z",
     "iopub.status.busy": "2022-12-03T06:25:18.766072Z",
     "iopub.status.idle": "2022-12-03T06:25:19.856960Z",
     "shell.execute_reply": "2022-12-03T06:25:19.856080Z",
     "shell.execute_reply.started": "2022-12-03T06:25:18.766688Z"
    },
    "scrolled": true
   },
   "outputs": [
    {
     "name": "stdout",
     "output_type": "stream",
     "text": [
      "rm: cannot remove '/kaggle/working/': Device or resource busy\n"
     ]
    }
   ],
   "source": [
    "!rm -rf /kaggle/working/"
   ]
  },
  {
   "cell_type": "code",
   "execution_count": 122,
   "metadata": {
    "execution": {
     "iopub.execute_input": "2022-12-03T06:25:19.859431Z",
     "iopub.status.busy": "2022-12-03T06:25:19.859142Z",
     "iopub.status.idle": "2022-12-03T06:25:33.869791Z",
     "shell.execute_reply": "2022-12-03T06:25:33.868717Z",
     "shell.execute_reply.started": "2022-12-03T06:25:19.859397Z"
    }
   },
   "outputs": [
    {
     "name": "stdout",
     "output_type": "stream",
     "text": [
      "Cloning into 'yolov5'...\n",
      "remote: Enumerating objects: 14308, done.\u001b[K\n",
      "remote: Counting objects: 100% (66/66), done.\u001b[K\n",
      "remote: Compressing objects: 100% (49/49), done.\u001b[K\n",
      "remote: Total 14308 (delta 30), reused 39 (delta 17), pack-reused 14242\u001b[K\n",
      "Receiving objects: 100% (14308/14308), 13.57 MiB | 8.65 MiB/s, done.\n",
      "Resolving deltas: 100% (9837/9837), done.\n",
      "/kaggle/working/yolov5\n",
      "\u001b[33mWARNING: Running pip as the 'root' user can result in broken permissions and conflicting behaviour with the system package manager. It is recommended to use a virtual environment instead: https://pip.pypa.io/warnings/venv\u001b[0m\n"
     ]
    }
   ],
   "source": [
    "!git clone https://github.com/ultralytics/yolov5\n",
    "%cd yolov5\n",
    "!pip install -qr requirements.txt"
   ]
  },
  {
   "cell_type": "code",
   "execution_count": 123,
   "metadata": {
    "execution": {
     "iopub.execute_input": "2022-12-03T06:25:33.872072Z",
     "iopub.status.busy": "2022-12-03T06:25:33.871814Z",
     "iopub.status.idle": "2022-12-03T06:25:33.878580Z",
     "shell.execute_reply": "2022-12-03T06:25:33.877630Z",
     "shell.execute_reply.started": "2022-12-03T06:25:33.872040Z"
    }
   },
   "outputs": [],
   "source": [
    "# Import required libraries\n",
    "import pandas as pd\n",
    "import numpy as np\n",
    "import os\n",
    "import glob\n",
    "from datetime import datetime\n",
    "import xml.etree.ElementTree as ET \n",
    "import cv2\n",
    "import matplotlib.pyplot as plt\n",
    "import seaborn as sns\n",
    "import warnings\n",
    "warnings.filterwarnings('ignore')"
   ]
  },
  {
   "cell_type": "code",
   "execution_count": 124,
   "metadata": {
    "execution": {
     "iopub.execute_input": "2022-12-03T06:25:33.880444Z",
     "iopub.status.busy": "2022-12-03T06:25:33.879966Z",
     "iopub.status.idle": "2022-12-03T06:25:33.891681Z",
     "shell.execute_reply": "2022-12-03T06:25:33.890861Z",
     "shell.execute_reply.started": "2022-12-03T06:25:33.880411Z"
    }
   },
   "outputs": [],
   "source": [
    "input_data = '/kaggle/input'\n",
    "output_data = '/kaggle/working'"
   ]
  },
  {
   "cell_type": "markdown",
   "metadata": {},
   "source": [
    "# Read and Handle Annotations\n",
    "Read the data from .xml files\n",
    "<br>\n",
    "Extract filename and dimensions of the bouding boxes\n",
    "<br>\n",
    "and import that data into a pandas DataFrame"
   ]
  },
  {
   "cell_type": "code",
   "execution_count": 125,
   "metadata": {
    "execution": {
     "iopub.execute_input": "2022-12-03T06:25:33.894461Z",
     "iopub.status.busy": "2022-12-03T06:25:33.893932Z",
     "iopub.status.idle": "2022-12-03T06:25:33.905451Z",
     "shell.execute_reply": "2022-12-03T06:25:33.904576Z",
     "shell.execute_reply.started": "2022-12-03T06:25:33.894428Z"
    }
   },
   "outputs": [],
   "source": [
    "annotations_path = \"/kaggle/input/finalannotations\"\n",
    "images_path = \"/kaggle/input/finalimages2\""
   ]
  },
  {
   "cell_type": "code",
   "execution_count": 126,
   "metadata": {
    "execution": {
     "iopub.execute_input": "2022-12-03T06:25:33.907496Z",
     "iopub.status.busy": "2022-12-03T06:25:33.907009Z",
     "iopub.status.idle": "2022-12-03T06:25:33.939662Z",
     "shell.execute_reply": "2022-12-03T06:25:33.939007Z",
     "shell.execute_reply.started": "2022-12-03T06:25:33.907464Z"
    }
   },
   "outputs": [],
   "source": [
    "dataset = {\n",
    "            \"file\":[],\n",
    "            \"name\":[],    \n",
    "            \"width\":[],\n",
    "            \"height\":[],\n",
    "            \"xmin\":[],\n",
    "            \"ymin\":[],   \n",
    "            \"xmax\":[],\n",
    "            \"ymax\":[],\n",
    "           }\n",
    "\n",
    "for anno in glob.glob(annotations_path+\"/*.xml\"):\n",
    "    tree = ET.parse(anno)\n",
    "    \n",
    "    for elem in tree.iter():\n",
    "        if 'size' in elem.tag:\n",
    "            for attr in list(elem):\n",
    "                if 'width' in attr.tag: \n",
    "                    width = int(round(float(attr.text)))\n",
    "                if 'height' in attr.tag:\n",
    "                    height = int(round(float(attr.text)))    \n",
    "\n",
    "        if 'object' in elem.tag:\n",
    "            for attr in list(elem):\n",
    "                \n",
    "                if 'name' in attr.tag:\n",
    "                    name = attr.text                 \n",
    "                    dataset['name']+=[name]\n",
    "                    dataset['width']+=[width]\n",
    "                    dataset['height']+=[height] \n",
    "                    dataset['file']+=[anno.split('/')[-1][0:-4]] \n",
    "                            \n",
    "                if 'bndbox' in attr.tag:\n",
    "                    for dim in list(attr):\n",
    "                        if 'xmin' in dim.tag:\n",
    "                            xmin = int(round(float(dim.text)))\n",
    "                            dataset['xmin']+=[xmin]\n",
    "                        if 'ymin' in dim.tag:\n",
    "                            ymin = int(round(float(dim.text)))\n",
    "                            dataset['ymin']+=[ymin]                                \n",
    "                        if 'xmax' in dim.tag:\n",
    "                            xmax = int(round(float(dim.text)))\n",
    "                            dataset['xmax']+=[xmax]                                \n",
    "                        if 'ymax' in dim.tag:\n",
    "                            ymax = int(round(float(dim.text)))\n",
    "                            dataset['ymax']+=[ymax]"
   ]
  },
  {
   "cell_type": "code",
   "execution_count": 127,
   "metadata": {
    "execution": {
     "iopub.execute_input": "2022-12-03T06:25:33.941209Z",
     "iopub.status.busy": "2022-12-03T06:25:33.940818Z",
     "iopub.status.idle": "2022-12-03T06:25:33.965113Z",
     "shell.execute_reply": "2022-12-03T06:25:33.964502Z",
     "shell.execute_reply.started": "2022-12-03T06:25:33.941178Z"
    }
   },
   "outputs": [
    {
     "data": {
      "text/html": [
       "<div>\n",
       "<style scoped>\n",
       "    .dataframe tbody tr th:only-of-type {\n",
       "        vertical-align: middle;\n",
       "    }\n",
       "\n",
       "    .dataframe tbody tr th {\n",
       "        vertical-align: top;\n",
       "    }\n",
       "\n",
       "    .dataframe thead th {\n",
       "        text-align: right;\n",
       "    }\n",
       "</style>\n",
       "<table border=\"1\" class=\"dataframe\">\n",
       "  <thead>\n",
       "    <tr style=\"text-align: right;\">\n",
       "      <th></th>\n",
       "      <th>file</th>\n",
       "      <th>name</th>\n",
       "      <th>width</th>\n",
       "      <th>height</th>\n",
       "      <th>xmin</th>\n",
       "      <th>ymin</th>\n",
       "      <th>xmax</th>\n",
       "      <th>ymax</th>\n",
       "    </tr>\n",
       "  </thead>\n",
       "  <tbody>\n",
       "    <tr>\n",
       "      <th>0</th>\n",
       "      <td>without_mask_1503</td>\n",
       "      <td>without_mask</td>\n",
       "      <td>171</td>\n",
       "      <td>295</td>\n",
       "      <td>41</td>\n",
       "      <td>40</td>\n",
       "      <td>166</td>\n",
       "      <td>177</td>\n",
       "    </tr>\n",
       "    <tr>\n",
       "      <th>1</th>\n",
       "      <td>without_mask_1502</td>\n",
       "      <td>without_mask</td>\n",
       "      <td>144</td>\n",
       "      <td>137</td>\n",
       "      <td>7</td>\n",
       "      <td>38</td>\n",
       "      <td>144</td>\n",
       "      <td>137</td>\n",
       "    </tr>\n",
       "    <tr>\n",
       "      <th>2</th>\n",
       "      <td>without_mask_2</td>\n",
       "      <td>without_mask</td>\n",
       "      <td>148</td>\n",
       "      <td>138</td>\n",
       "      <td>1</td>\n",
       "      <td>15</td>\n",
       "      <td>146</td>\n",
       "      <td>135</td>\n",
       "    </tr>\n",
       "    <tr>\n",
       "      <th>3</th>\n",
       "      <td>without_mask_5</td>\n",
       "      <td>without_mask</td>\n",
       "      <td>144</td>\n",
       "      <td>145</td>\n",
       "      <td>2</td>\n",
       "      <td>9</td>\n",
       "      <td>144</td>\n",
       "      <td>144</td>\n",
       "    </tr>\n",
       "    <tr>\n",
       "      <th>4</th>\n",
       "      <td>without_mask_4</td>\n",
       "      <td>without_mask</td>\n",
       "      <td>153</td>\n",
       "      <td>121</td>\n",
       "      <td>2</td>\n",
       "      <td>12</td>\n",
       "      <td>153</td>\n",
       "      <td>119</td>\n",
       "    </tr>\n",
       "  </tbody>\n",
       "</table>\n",
       "</div>"
      ],
      "text/plain": [
       "                file          name  width  height  xmin  ymin  xmax  ymax\n",
       "0  without_mask_1503  without_mask    171     295    41    40   166   177\n",
       "1  without_mask_1502  without_mask    144     137     7    38   144   137\n",
       "2     without_mask_2  without_mask    148     138     1    15   146   135\n",
       "3     without_mask_5  without_mask    144     145     2     9   144   144\n",
       "4     without_mask_4  without_mask    153     121     2    12   153   119"
      ]
     },
     "execution_count": 127,
     "metadata": {},
     "output_type": "execute_result"
    }
   ],
   "source": [
    "df=pd.DataFrame(dataset)\n",
    "df.head()"
   ]
  },
  {
   "cell_type": "code",
   "execution_count": 128,
   "metadata": {
    "execution": {
     "iopub.execute_input": "2022-12-03T06:25:33.966539Z",
     "iopub.status.busy": "2022-12-03T06:25:33.966190Z",
     "iopub.status.idle": "2022-12-03T06:25:33.973018Z",
     "shell.execute_reply": "2022-12-03T06:25:33.972414Z",
     "shell.execute_reply.started": "2022-12-03T06:25:33.966510Z"
    }
   },
   "outputs": [
    {
     "name": "stdout",
     "output_type": "stream",
     "text": [
      "{'with_mask': 0, 'without_mask': 1}\n"
     ]
    }
   ],
   "source": [
    "name_dict = {\n",
    "    'with_mask': 0,\n",
    "    'without_mask': 1 \n",
    "}\n",
    "print(name_dict)\n",
    "\n",
    "df['class'] = df['name'].map(name_dict)"
   ]
  },
  {
   "cell_type": "code",
   "execution_count": 129,
   "metadata": {
    "execution": {
     "iopub.execute_input": "2022-12-03T06:25:33.974771Z",
     "iopub.status.busy": "2022-12-03T06:25:33.974553Z",
     "iopub.status.idle": "2022-12-03T06:25:33.983772Z",
     "shell.execute_reply": "2022-12-03T06:25:33.982958Z",
     "shell.execute_reply.started": "2022-12-03T06:25:33.974746Z"
    }
   },
   "outputs": [
    {
     "data": {
      "text/plain": [
       "array(['mask', 'without_mask'], dtype=object)"
      ]
     },
     "execution_count": 129,
     "metadata": {},
     "output_type": "execute_result"
    }
   ],
   "source": [
    "np.sort(df.name.unique())"
   ]
  },
  {
   "cell_type": "markdown",
   "metadata": {},
   "source": [
    "# Train Test Split\n",
    "Split the dataset into training testing and validation set\n",
    "<br>\n",
    "separate the data in different folder inside the Yolo directory\n",
    "<br>\n",
    "and Normalize data"
   ]
  },
  {
   "cell_type": "code",
   "execution_count": 130,
   "metadata": {
    "execution": {
     "iopub.execute_input": "2022-12-03T06:25:33.985247Z",
     "iopub.status.busy": "2022-12-03T06:25:33.985032Z",
     "iopub.status.idle": "2022-12-03T06:25:33.996807Z",
     "shell.execute_reply": "2022-12-03T06:25:33.995980Z",
     "shell.execute_reply.started": "2022-12-03T06:25:33.985222Z"
    }
   },
   "outputs": [
    {
     "name": "stdout",
     "output_type": "stream",
     "text": [
      "There are 20 images in the dataset\n"
     ]
    }
   ],
   "source": [
    "fileNames = [*os.listdir(\"/kaggle/input/finalimages2\")]\n",
    "print('There are {} images in the dataset'.format(len(fileNames)))"
   ]
  },
  {
   "cell_type": "code",
   "execution_count": 131,
   "metadata": {
    "execution": {
     "iopub.execute_input": "2022-12-03T06:25:33.999061Z",
     "iopub.status.busy": "2022-12-03T06:25:33.998333Z",
     "iopub.status.idle": "2022-12-03T06:25:34.016151Z",
     "shell.execute_reply": "2022-12-03T06:25:34.015014Z",
     "shell.execute_reply.started": "2022-12-03T06:25:33.999025Z"
    }
   },
   "outputs": [
    {
     "name": "stdout",
     "output_type": "stream",
     "text": [
      "Length of Train = 18\n",
      "==============================\n",
      "Length of Valid = 1\n",
      "==============================\n",
      "Length of test = 1\n"
     ]
    }
   ],
   "source": [
    "from sklearn.model_selection import train_test_split\n",
    "train, test = train_test_split(fileNames, test_size=0.1, random_state=22)\n",
    "test, val = train_test_split(test, test_size=0.5, random_state=22)\n",
    "print(\"Length of Train =\",len(train))\n",
    "print(\"=\"*30)\n",
    "print(\"Length of Valid =\",len(val))\n",
    "print(\"=\"*30)\n",
    "print(\"Length of test =\", len(test))"
   ]
  },
  {
   "cell_type": "code",
   "execution_count": 132,
   "metadata": {
    "execution": {
     "iopub.execute_input": "2022-12-03T06:25:34.017870Z",
     "iopub.status.busy": "2022-12-03T06:25:34.017584Z",
     "iopub.status.idle": "2022-12-03T06:25:34.025240Z",
     "shell.execute_reply": "2022-12-03T06:25:34.024451Z",
     "shell.execute_reply.started": "2022-12-03T06:25:34.017840Z"
    }
   },
   "outputs": [],
   "source": [
    "# create separate train test and validation dir inside yolo/data/\n",
    "os.chdir('/kaggle/working/')\n",
    "os.mkdir('./yolov5/data/train')\n",
    "os.mkdir('./yolov5/data/val')\n",
    "os.mkdir('./yolov5/data/test')\n",
    "os.mkdir('./yolov5/data/train/images')\n",
    "os.mkdir('./yolov5/data/train/labels')\n",
    "os.mkdir('./yolov5/data/test/images')\n",
    "os.mkdir('./yolov5/data/test/labels')\n",
    "os.mkdir('./yolov5/data/val/images')\n",
    "os.mkdir('./yolov5/data/val/labels')"
   ]
  },
  {
   "cell_type": "code",
   "execution_count": 133,
   "metadata": {
    "execution": {
     "iopub.execute_input": "2022-12-03T06:25:34.027142Z",
     "iopub.status.busy": "2022-12-03T06:25:34.026535Z",
     "iopub.status.idle": "2022-12-03T06:25:34.374094Z",
     "shell.execute_reply": "2022-12-03T06:25:34.372861Z",
     "shell.execute_reply.started": "2022-12-03T06:25:34.027110Z"
    }
   },
   "outputs": [],
   "source": [
    "\n",
    "from PIL import Image\n",
    "\n",
    "def copyImages(imageList, folder_Name):\n",
    "    for image in imageList:\n",
    "        img = Image.open(input_data+\"/finalimages2/\"+image)\n",
    "        img1 = img.resize((640, 480))\n",
    "        _ = img1.save(output_data+\"/yolov5/data/\"+folder_Name+\"/images/\"+image)\n",
    "\n",
    "copyImages(train, \"train\")\n",
    "copyImages(val, \"val\")\n",
    "copyImages(test, \"test\")"
   ]
  },
  {
   "cell_type": "code",
   "execution_count": 134,
   "metadata": {
    "execution": {
     "iopub.execute_input": "2022-12-03T06:25:34.378684Z",
     "iopub.status.busy": "2022-12-03T06:25:34.378375Z",
     "iopub.status.idle": "2022-12-03T06:25:34.392840Z",
     "shell.execute_reply": "2022-12-03T06:25:34.391947Z",
     "shell.execute_reply.started": "2022-12-03T06:25:34.378650Z"
    }
   },
   "outputs": [
    {
     "data": {
      "text/html": [
       "<div>\n",
       "<style scoped>\n",
       "    .dataframe tbody tr th:only-of-type {\n",
       "        vertical-align: middle;\n",
       "    }\n",
       "\n",
       "    .dataframe tbody tr th {\n",
       "        vertical-align: top;\n",
       "    }\n",
       "\n",
       "    .dataframe thead th {\n",
       "        text-align: right;\n",
       "    }\n",
       "</style>\n",
       "<table border=\"1\" class=\"dataframe\">\n",
       "  <thead>\n",
       "    <tr style=\"text-align: right;\">\n",
       "      <th></th>\n",
       "      <th>file</th>\n",
       "      <th>name</th>\n",
       "      <th>width</th>\n",
       "      <th>height</th>\n",
       "      <th>xmin</th>\n",
       "      <th>ymin</th>\n",
       "      <th>xmax</th>\n",
       "      <th>ymax</th>\n",
       "      <th>class</th>\n",
       "    </tr>\n",
       "  </thead>\n",
       "  <tbody>\n",
       "    <tr>\n",
       "      <th>0</th>\n",
       "      <td>without_mask_1503</td>\n",
       "      <td>without_mask</td>\n",
       "      <td>171</td>\n",
       "      <td>295</td>\n",
       "      <td>41</td>\n",
       "      <td>40</td>\n",
       "      <td>166</td>\n",
       "      <td>177</td>\n",
       "      <td>1.0</td>\n",
       "    </tr>\n",
       "    <tr>\n",
       "      <th>1</th>\n",
       "      <td>without_mask_1502</td>\n",
       "      <td>without_mask</td>\n",
       "      <td>144</td>\n",
       "      <td>137</td>\n",
       "      <td>7</td>\n",
       "      <td>38</td>\n",
       "      <td>144</td>\n",
       "      <td>137</td>\n",
       "      <td>1.0</td>\n",
       "    </tr>\n",
       "    <tr>\n",
       "      <th>2</th>\n",
       "      <td>without_mask_2</td>\n",
       "      <td>without_mask</td>\n",
       "      <td>148</td>\n",
       "      <td>138</td>\n",
       "      <td>1</td>\n",
       "      <td>15</td>\n",
       "      <td>146</td>\n",
       "      <td>135</td>\n",
       "      <td>1.0</td>\n",
       "    </tr>\n",
       "    <tr>\n",
       "      <th>3</th>\n",
       "      <td>without_mask_5</td>\n",
       "      <td>without_mask</td>\n",
       "      <td>144</td>\n",
       "      <td>145</td>\n",
       "      <td>2</td>\n",
       "      <td>9</td>\n",
       "      <td>144</td>\n",
       "      <td>144</td>\n",
       "      <td>1.0</td>\n",
       "    </tr>\n",
       "    <tr>\n",
       "      <th>4</th>\n",
       "      <td>without_mask_4</td>\n",
       "      <td>without_mask</td>\n",
       "      <td>153</td>\n",
       "      <td>121</td>\n",
       "      <td>2</td>\n",
       "      <td>12</td>\n",
       "      <td>153</td>\n",
       "      <td>119</td>\n",
       "      <td>1.0</td>\n",
       "    </tr>\n",
       "  </tbody>\n",
       "</table>\n",
       "</div>"
      ],
      "text/plain": [
       "                file          name  width  height  xmin  ymin  xmax  ymax  \\\n",
       "0  without_mask_1503  without_mask    171     295    41    40   166   177   \n",
       "1  without_mask_1502  without_mask    144     137     7    38   144   137   \n",
       "2     without_mask_2  without_mask    148     138     1    15   146   135   \n",
       "3     without_mask_5  without_mask    144     145     2     9   144   144   \n",
       "4     without_mask_4  without_mask    153     121     2    12   153   119   \n",
       "\n",
       "   class  \n",
       "0    1.0  \n",
       "1    1.0  \n",
       "2    1.0  \n",
       "3    1.0  \n",
       "4    1.0  "
      ]
     },
     "execution_count": 134,
     "metadata": {},
     "output_type": "execute_result"
    }
   ],
   "source": [
    "df.head()"
   ]
  },
  {
   "cell_type": "code",
   "execution_count": 135,
   "metadata": {
    "execution": {
     "iopub.execute_input": "2022-12-03T06:25:34.394949Z",
     "iopub.status.busy": "2022-12-03T06:25:34.394315Z",
     "iopub.status.idle": "2022-12-03T06:25:34.407608Z",
     "shell.execute_reply": "2022-12-03T06:25:34.406734Z",
     "shell.execute_reply.started": "2022-12-03T06:25:34.394915Z"
    }
   },
   "outputs": [],
   "source": [
    "df['xmax'] = (640/df['width'])*df['xmax']\n",
    "df['ymax'] = (480/df['height'])*df['ymax']\n",
    "df['xmin'] = (640/df['width'])*df['xmin']\n",
    "df['ymin'] = (480/df['height'])*df['ymin']"
   ]
  },
  {
   "cell_type": "code",
   "execution_count": 136,
   "metadata": {
    "execution": {
     "iopub.execute_input": "2022-12-03T06:25:34.409601Z",
     "iopub.status.busy": "2022-12-03T06:25:34.409338Z",
     "iopub.status.idle": "2022-12-03T06:25:34.418655Z",
     "shell.execute_reply": "2022-12-03T06:25:34.417918Z",
     "shell.execute_reply.started": "2022-12-03T06:25:34.409570Z"
    }
   },
   "outputs": [],
   "source": [
    "df[['xmax', 'ymax', 'xmin', 'ymin']] = df[['xmax', 'ymax', 'xmin', 'ymin']].astype('int64')"
   ]
  },
  {
   "cell_type": "code",
   "execution_count": 137,
   "metadata": {
    "execution": {
     "iopub.execute_input": "2022-12-03T06:25:34.420356Z",
     "iopub.status.busy": "2022-12-03T06:25:34.420101Z",
     "iopub.status.idle": "2022-12-03T06:25:34.435113Z",
     "shell.execute_reply": "2022-12-03T06:25:34.434316Z",
     "shell.execute_reply.started": "2022-12-03T06:25:34.420317Z"
    }
   },
   "outputs": [],
   "source": [
    "df['x_center'] = (df['xmax']+df['xmin'])/(2*640)\n",
    "df['y_center'] = (df['ymax']+df['ymin'])/(2*480)\n",
    "df['box_height'] = (df['xmax']-df['xmin'])/(640)\n",
    "df['box_width'] = (df['ymax']-df['ymin'])/(480)"
   ]
  },
  {
   "cell_type": "code",
   "execution_count": 138,
   "metadata": {
    "execution": {
     "iopub.execute_input": "2022-12-03T06:25:34.436991Z",
     "iopub.status.busy": "2022-12-03T06:25:34.436742Z",
     "iopub.status.idle": "2022-12-03T06:25:34.460900Z",
     "shell.execute_reply": "2022-12-03T06:25:34.459794Z",
     "shell.execute_reply.started": "2022-12-03T06:25:34.436964Z"
    }
   },
   "outputs": [
    {
     "data": {
      "text/html": [
       "<div>\n",
       "<style scoped>\n",
       "    .dataframe tbody tr th:only-of-type {\n",
       "        vertical-align: middle;\n",
       "    }\n",
       "\n",
       "    .dataframe tbody tr th {\n",
       "        vertical-align: top;\n",
       "    }\n",
       "\n",
       "    .dataframe thead th {\n",
       "        text-align: right;\n",
       "    }\n",
       "</style>\n",
       "<table border=\"1\" class=\"dataframe\">\n",
       "  <thead>\n",
       "    <tr style=\"text-align: right;\">\n",
       "      <th></th>\n",
       "      <th>file</th>\n",
       "      <th>name</th>\n",
       "      <th>width</th>\n",
       "      <th>height</th>\n",
       "      <th>xmin</th>\n",
       "      <th>...</th>\n",
       "      <th>class</th>\n",
       "      <th>x_center</th>\n",
       "      <th>y_center</th>\n",
       "      <th>box_height</th>\n",
       "      <th>box_width</th>\n",
       "    </tr>\n",
       "  </thead>\n",
       "  <tbody>\n",
       "    <tr>\n",
       "      <th>0</th>\n",
       "      <td>without_mask_1503</td>\n",
       "      <td>without_mask</td>\n",
       "      <td>171</td>\n",
       "      <td>295</td>\n",
       "      <td>153</td>\n",
       "      <td>...</td>\n",
       "      <td>1.0</td>\n",
       "      <td>0.604688</td>\n",
       "      <td>0.367708</td>\n",
       "      <td>0.731250</td>\n",
       "      <td>0.464583</td>\n",
       "    </tr>\n",
       "    <tr>\n",
       "      <th>1</th>\n",
       "      <td>without_mask_1502</td>\n",
       "      <td>without_mask</td>\n",
       "      <td>144</td>\n",
       "      <td>137</td>\n",
       "      <td>31</td>\n",
       "      <td>...</td>\n",
       "      <td>1.0</td>\n",
       "      <td>0.524219</td>\n",
       "      <td>0.638542</td>\n",
       "      <td>0.951562</td>\n",
       "      <td>0.722917</td>\n",
       "    </tr>\n",
       "    <tr>\n",
       "      <th>2</th>\n",
       "      <td>without_mask_2</td>\n",
       "      <td>without_mask</td>\n",
       "      <td>148</td>\n",
       "      <td>138</td>\n",
       "      <td>4</td>\n",
       "      <td>...</td>\n",
       "      <td>1.0</td>\n",
       "      <td>0.496094</td>\n",
       "      <td>0.542708</td>\n",
       "      <td>0.979688</td>\n",
       "      <td>0.868750</td>\n",
       "    </tr>\n",
       "    <tr>\n",
       "      <th>3</th>\n",
       "      <td>without_mask_5</td>\n",
       "      <td>without_mask</td>\n",
       "      <td>144</td>\n",
       "      <td>145</td>\n",
       "      <td>8</td>\n",
       "      <td>...</td>\n",
       "      <td>1.0</td>\n",
       "      <td>0.506250</td>\n",
       "      <td>0.526042</td>\n",
       "      <td>0.987500</td>\n",
       "      <td>0.931250</td>\n",
       "    </tr>\n",
       "    <tr>\n",
       "      <th>4</th>\n",
       "      <td>without_mask_4</td>\n",
       "      <td>without_mask</td>\n",
       "      <td>153</td>\n",
       "      <td>121</td>\n",
       "      <td>8</td>\n",
       "      <td>...</td>\n",
       "      <td>1.0</td>\n",
       "      <td>0.506250</td>\n",
       "      <td>0.540625</td>\n",
       "      <td>0.987500</td>\n",
       "      <td>0.885417</td>\n",
       "    </tr>\n",
       "  </tbody>\n",
       "</table>\n",
       "<p>5 rows × 13 columns</p>\n",
       "</div>"
      ],
      "text/plain": [
       "                file          name  width  height  xmin  ...  class  x_center  \\\n",
       "0  without_mask_1503  without_mask    171     295   153  ...    1.0  0.604688   \n",
       "1  without_mask_1502  without_mask    144     137    31  ...    1.0  0.524219   \n",
       "2     without_mask_2  without_mask    148     138     4  ...    1.0  0.496094   \n",
       "3     without_mask_5  without_mask    144     145     8  ...    1.0  0.506250   \n",
       "4     without_mask_4  without_mask    153     121     8  ...    1.0  0.506250   \n",
       "\n",
       "   y_center  box_height  box_width  \n",
       "0  0.367708    0.731250   0.464583  \n",
       "1  0.638542    0.951562   0.722917  \n",
       "2  0.542708    0.979688   0.868750  \n",
       "3  0.526042    0.987500   0.931250  \n",
       "4  0.540625    0.987500   0.885417  \n",
       "\n",
       "[5 rows x 13 columns]"
      ]
     },
     "execution_count": 138,
     "metadata": {},
     "output_type": "execute_result"
    }
   ],
   "source": [
    "df.head()"
   ]
  },
  {
   "cell_type": "code",
   "execution_count": 139,
   "metadata": {
    "execution": {
     "iopub.execute_input": "2022-12-03T06:25:34.462424Z",
     "iopub.status.busy": "2022-12-03T06:25:34.462188Z",
     "iopub.status.idle": "2022-12-03T06:25:34.472246Z",
     "shell.execute_reply": "2022-12-03T06:25:34.471117Z",
     "shell.execute_reply.started": "2022-12-03T06:25:34.462396Z"
    }
   },
   "outputs": [],
   "source": [
    "df = df.astype('string')"
   ]
  },
  {
   "cell_type": "code",
   "execution_count": 140,
   "metadata": {
    "execution": {
     "iopub.execute_input": "2022-12-03T06:25:34.473963Z",
     "iopub.status.busy": "2022-12-03T06:25:34.473663Z",
     "iopub.status.idle": "2022-12-03T06:25:34.510014Z",
     "shell.execute_reply": "2022-12-03T06:25:34.508864Z",
     "shell.execute_reply.started": "2022-12-03T06:25:34.473931Z"
    }
   },
   "outputs": [],
   "source": [
    "def create_labels(image_list, data_name):\n",
    "    fileNames = [x.split(\".\")[0] for x in image_list]\n",
    "\n",
    "    for name in fileNames:\n",
    "        data = df[df.file==name]\n",
    "        box_list = []\n",
    "        \n",
    "        for index in range(len(data)):\n",
    "            row = data.iloc[index]\n",
    "            box_list.append(row['class']+\" \"+row[\"x_center\"]+\" \"+row[\"y_center\"]\\\n",
    "                        +\" \"+row[\"box_height\"]+\" \"+row[\"box_width\"])\n",
    "        if type(box_list) != str:\n",
    "            continue\n",
    "        text = \"\\n\".join(box_list)\n",
    "        with open(output_data+\"/yolov5/data/\"+data_name+\"/labels/\"+name+\".txt\", \"w\") as file:\n",
    "            file.write(text)\n",
    "\n",
    "\n",
    "create_labels(train, \"train\")\n",
    "create_labels(val, \"val\")\n",
    "create_labels(test, \"test\")"
   ]
  },
  {
   "cell_type": "markdown",
   "metadata": {},
   "source": [
    "# Configure the Model"
   ]
  },
  {
   "cell_type": "code",
   "execution_count": 141,
   "metadata": {
    "execution": {
     "iopub.execute_input": "2022-12-03T06:25:34.512036Z",
     "iopub.status.busy": "2022-12-03T06:25:34.511690Z",
     "iopub.status.idle": "2022-12-03T06:25:34.528504Z",
     "shell.execute_reply": "2022-12-03T06:25:34.527679Z",
     "shell.execute_reply.started": "2022-12-03T06:25:34.512002Z"
    }
   },
   "outputs": [
    {
     "name": "stdout",
     "output_type": "stream",
     "text": [
      "/kaggle/working/yolov5\n"
     ]
    }
   ],
   "source": [
    "# go to YOLO directory\n",
    "%cd yolov5"
   ]
  },
  {
   "cell_type": "code",
   "execution_count": 142,
   "metadata": {
    "execution": {
     "iopub.execute_input": "2022-12-03T06:25:34.530610Z",
     "iopub.status.busy": "2022-12-03T06:25:34.530212Z",
     "iopub.status.idle": "2022-12-03T06:25:34.592798Z",
     "shell.execute_reply": "2022-12-03T06:25:34.591678Z",
     "shell.execute_reply.started": "2022-12-03T06:25:34.530578Z"
    }
   },
   "outputs": [
    {
     "name": "stderr",
     "output_type": "stream",
     "text": [
      "YOLOv5 🚀 v7.0-21-ga1b6e79 Python-3.7.12 torch-1.9.1+cpu CPU\n"
     ]
    },
    {
     "name": "stdout",
     "output_type": "stream",
     "text": [
      "Setup complete ✅ (4 CPUs, 31.4 GB RAM, 3964.5/4030.6 GB disk)\n"
     ]
    }
   ],
   "source": [
    "# to display images\n",
    "from IPython.display import Image, clear_output\n",
    "import torch\n",
    "from yolov5 import utils\n",
    "display = utils.notebook_init()"
   ]
  },
  {
   "cell_type": "code",
   "execution_count": 143,
   "metadata": {
    "execution": {
     "iopub.execute_input": "2022-12-03T06:25:34.595549Z",
     "iopub.status.busy": "2022-12-03T06:25:34.595103Z",
     "iopub.status.idle": "2022-12-03T06:25:35.690896Z",
     "shell.execute_reply": "2022-12-03T06:25:35.689373Z",
     "shell.execute_reply.started": "2022-12-03T06:25:34.595514Z"
    }
   },
   "outputs": [
    {
     "name": "stdout",
     "output_type": "stream",
     "text": [
      "train: data/train/images\n",
      "val: data/train/images\n",
      "\n",
      "nc: 3\n",
      "names: ['with_mask', 'mask_weared_incorrect', 'without_mask']"
     ]
    }
   ],
   "source": [
    "# configure .yaml file to guide the model for training\n",
    "yaml_text = \"\"\"train: data/train/images\n",
    "val: data/train/images\n",
    "\n",
    "nc: 3\n",
    "names: ['with_mask', 'mask_weared_incorrect', 'without_mask']\"\"\"\n",
    "\n",
    "with open(\"data/data.yaml\", 'w') as file:\n",
    "    file.write(yaml_text)\n",
    "\n",
    "%cat data/data.yaml"
   ]
  },
  {
   "cell_type": "code",
   "execution_count": 144,
   "metadata": {
    "execution": {
     "iopub.execute_input": "2022-12-03T06:25:35.692946Z",
     "iopub.status.busy": "2022-12-03T06:25:35.692653Z",
     "iopub.status.idle": "2022-12-03T06:25:35.699078Z",
     "shell.execute_reply": "2022-12-03T06:25:35.698100Z",
     "shell.execute_reply.started": "2022-12-03T06:25:35.692909Z"
    }
   },
   "outputs": [],
   "source": [
    "#customize iPython writefile so we can write variables\n",
    "from IPython.core.magic import register_line_cell_magic\n",
    "\n",
    "@register_line_cell_magic\n",
    "def writetemplate(line, cell):\n",
    "    with open(line, 'w') as f:\n",
    "        f.write(cell.format(**globals()))"
   ]
  },
  {
   "cell_type": "code",
   "execution_count": 145,
   "metadata": {
    "execution": {
     "iopub.execute_input": "2022-12-03T06:25:35.700625Z",
     "iopub.status.busy": "2022-12-03T06:25:35.700373Z",
     "iopub.status.idle": "2022-12-03T06:25:35.711565Z",
     "shell.execute_reply": "2022-12-03T06:25:35.710624Z",
     "shell.execute_reply.started": "2022-12-03T06:25:35.700594Z"
    }
   },
   "outputs": [],
   "source": [
    "%%writetemplate models/custom_yolov5s.yaml\n",
    "\n",
    "# parameters\n",
    "nc: 3  # number of classes\n",
    "depth_multiple: 0.33  # model depth multiple\n",
    "width_multiple: 0.50  # layer channel multiple\n",
    "\n",
    "# anchors\n",
    "anchors:\n",
    "    - [10,13, 16,30, 33,23]  # P3/8\n",
    "    - [30,61, 62,45, 59,119]  # P4/16\n",
    "    - [116,90, 156,198, 373,326]  # P5/32\n",
    "\n",
    "# YOLOv5 backbone\n",
    "backbone:\n",
    "  # [from, number, module, args]\n",
    "  [[-1, 1, Focus, [64, 3]],  # 0-P1/2\n",
    "   [-1, 1, Conv, [128, 3, 2]],  # 1-P2/4\n",
    "   [-1, 3, BottleneckCSP, [128]],\n",
    "   [-1, 1, Conv, [256, 3, 2]],  # 3-P3/8\n",
    "   [-1, 9, BottleneckCSP, [256]],\n",
    "   [-1, 1, Conv, [512, 3, 2]],  # 5-P4/16\n",
    "   [-1, 9, BottleneckCSP, [512]],\n",
    "   [-1, 1, Conv, [1024, 3, 2]],  # 7-P5/32\n",
    "   [-1, 1, SPP, [1024, [5, 9, 13]]],\n",
    "   [-1, 3, BottleneckCSP, [1024, False]],  # 9\n",
    "  ]\n",
    "\n",
    "# YOLOv5 head\n",
    "head:\n",
    "    [[-1, 1, Conv, [512, 1, 1]],\n",
    "    [-1, 1, nn.Upsample, [None, 2, 'nearest']],\n",
    "    [[-1, 6], 1, Concat, [1]],  # cat backbone P4\n",
    "    [-1, 3, BottleneckCSP, [512, False]],  # 13\n",
    "\n",
    "    [-1, 1, Conv, [256, 1, 1]],\n",
    "    [-1, 1, nn.Upsample, [None, 2, 'nearest']],\n",
    "    [[-1, 4], 1, Concat, [1]],  # cat backbone P3\n",
    "    [-1, 3, BottleneckCSP, [256, False]],  # 17 (P3/8-small)\n",
    "\n",
    "    [-1, 1, Conv, [256, 3, 2]],\n",
    "    [[-1, 14], 1, Concat, [1]],  # cat head P4\n",
    "    [-1, 3, BottleneckCSP, [512, False]],  # 20 (P4/16-medium)\n",
    "\n",
    "    [-1, 1, Conv, [512, 3, 2]],\n",
    "    [[-1, 10], 1, Concat, [1]],  # cat head P5\n",
    "    [-1, 3, BottleneckCSP, [1024, False]],  # 23 (P5/32-large)\n",
    "\n",
    "    [[17, 20, 23], 1, Detect, [nc, anchors]],  # Detect(P3, P4, P5)\n",
    "    ]"
   ]
  },
  {
   "cell_type": "markdown",
   "metadata": {
    "_kg_hide-output": true,
    "execution": {
     "iopub.execute_input": "2022-12-03T06:16:28.383428Z",
     "iopub.status.busy": "2022-12-03T06:16:28.383068Z"
    }
   },
   "source": [
    "# train yolov5s on custom data for 100 epochs\n",
    "# time its performance\n",
    "# we are going to using pre-trained weights from yolov5.pt model\n",
    "\n",
    "start = datetime.now()\n",
    "!python train.py --img 640 --batch 32 --epochs 50 --data data/data.yaml --cfg models/custom_yolov5s.yaml --weights yolov5s.pt --name yolov5s_results  --cache\n",
    "end = datetime.now()"
   ]
  },
  {
   "cell_type": "code",
   "execution_count": null,
   "metadata": {},
   "outputs": [],
   "source": []
  },
  {
   "cell_type": "code",
   "execution_count": 146,
   "metadata": {
    "execution": {
     "iopub.execute_input": "2022-12-03T06:25:35.713279Z",
     "iopub.status.busy": "2022-12-03T06:25:35.712766Z",
     "iopub.status.idle": "2022-12-03T06:25:35.757469Z",
     "shell.execute_reply": "2022-12-03T06:25:35.756252Z",
     "shell.execute_reply.started": "2022-12-03T06:25:35.713247Z"
    }
   },
   "outputs": [
    {
     "ename": "FileNotFoundError",
     "evalue": "[Errno 2] No such file or directory: 'runs/train/yolov5s_results/train_batch0.jpg'",
     "output_type": "error",
     "traceback": [
      "\u001b[0;31m---------------------------------------------------------------------------\u001b[0m",
      "\u001b[0;31mFileNotFoundError\u001b[0m                         Traceback (most recent call last)",
      "\u001b[0;32m/tmp/ipykernel_17/1471330290.py\u001b[0m in \u001b[0;36m<module>\u001b[0;34m\u001b[0m\n\u001b[0;32m----> 1\u001b[0;31m \u001b[0mimg\u001b[0m \u001b[0;34m=\u001b[0m \u001b[0mplt\u001b[0m\u001b[0;34m.\u001b[0m\u001b[0mimread\u001b[0m\u001b[0;34m(\u001b[0m\u001b[0;34m'runs/train/yolov5s_results/train_batch0.jpg'\u001b[0m\u001b[0;34m)\u001b[0m\u001b[0;34m\u001b[0m\u001b[0;34m\u001b[0m\u001b[0m\n\u001b[0m\u001b[1;32m      2\u001b[0m \u001b[0mplt\u001b[0m\u001b[0;34m.\u001b[0m\u001b[0mfigure\u001b[0m\u001b[0;34m(\u001b[0m\u001b[0mfigsize\u001b[0m\u001b[0;34m=\u001b[0m\u001b[0;34m(\u001b[0m\u001b[0;36m20\u001b[0m\u001b[0;34m,\u001b[0m\u001b[0;36m15\u001b[0m\u001b[0;34m)\u001b[0m\u001b[0;34m)\u001b[0m\u001b[0;34m\u001b[0m\u001b[0;34m\u001b[0m\u001b[0m\n\u001b[1;32m      3\u001b[0m \u001b[0mplt\u001b[0m\u001b[0;34m.\u001b[0m\u001b[0mimshow\u001b[0m\u001b[0;34m(\u001b[0m\u001b[0mimg\u001b[0m\u001b[0;34m)\u001b[0m\u001b[0;34m\u001b[0m\u001b[0;34m\u001b[0m\u001b[0m\n\u001b[1;32m      4\u001b[0m \u001b[0mplt\u001b[0m\u001b[0;34m.\u001b[0m\u001b[0maxis\u001b[0m\u001b[0;34m(\u001b[0m\u001b[0;34m'off'\u001b[0m\u001b[0;34m)\u001b[0m\u001b[0;34m\u001b[0m\u001b[0;34m\u001b[0m\u001b[0m\n\u001b[1;32m      5\u001b[0m \u001b[0mplt\u001b[0m\u001b[0;34m.\u001b[0m\u001b[0mshow\u001b[0m\u001b[0;34m(\u001b[0m\u001b[0;34m)\u001b[0m\u001b[0;34m\u001b[0m\u001b[0;34m\u001b[0m\u001b[0m\n",
      "\u001b[0;32m/opt/conda/lib/python3.7/site-packages/matplotlib/pyplot.py\u001b[0m in \u001b[0;36mimread\u001b[0;34m(fname, format)\u001b[0m\n\u001b[1;32m   2137\u001b[0m \u001b[0;34m@\u001b[0m\u001b[0m_copy_docstring_and_deprecators\u001b[0m\u001b[0;34m(\u001b[0m\u001b[0mmatplotlib\u001b[0m\u001b[0;34m.\u001b[0m\u001b[0mimage\u001b[0m\u001b[0;34m.\u001b[0m\u001b[0mimread\u001b[0m\u001b[0;34m)\u001b[0m\u001b[0;34m\u001b[0m\u001b[0;34m\u001b[0m\u001b[0m\n\u001b[1;32m   2138\u001b[0m \u001b[0;32mdef\u001b[0m \u001b[0mimread\u001b[0m\u001b[0;34m(\u001b[0m\u001b[0mfname\u001b[0m\u001b[0;34m,\u001b[0m \u001b[0mformat\u001b[0m\u001b[0;34m=\u001b[0m\u001b[0;32mNone\u001b[0m\u001b[0;34m)\u001b[0m\u001b[0;34m:\u001b[0m\u001b[0;34m\u001b[0m\u001b[0;34m\u001b[0m\u001b[0m\n\u001b[0;32m-> 2139\u001b[0;31m     \u001b[0;32mreturn\u001b[0m \u001b[0mmatplotlib\u001b[0m\u001b[0;34m.\u001b[0m\u001b[0mimage\u001b[0m\u001b[0;34m.\u001b[0m\u001b[0mimread\u001b[0m\u001b[0;34m(\u001b[0m\u001b[0mfname\u001b[0m\u001b[0;34m,\u001b[0m \u001b[0mformat\u001b[0m\u001b[0;34m)\u001b[0m\u001b[0;34m\u001b[0m\u001b[0;34m\u001b[0m\u001b[0m\n\u001b[0m\u001b[1;32m   2140\u001b[0m \u001b[0;34m\u001b[0m\u001b[0m\n\u001b[1;32m   2141\u001b[0m \u001b[0;34m\u001b[0m\u001b[0m\n",
      "\u001b[0;32m/opt/conda/lib/python3.7/site-packages/matplotlib/image.py\u001b[0m in \u001b[0;36mimread\u001b[0;34m(fname, format)\u001b[0m\n\u001b[1;32m   1558\u001b[0m                     \u001b[0mresponse\u001b[0m \u001b[0;34m=\u001b[0m \u001b[0mio\u001b[0m\u001b[0;34m.\u001b[0m\u001b[0mBytesIO\u001b[0m\u001b[0;34m(\u001b[0m\u001b[0mresponse\u001b[0m\u001b[0;34m.\u001b[0m\u001b[0mread\u001b[0m\u001b[0;34m(\u001b[0m\u001b[0;34m)\u001b[0m\u001b[0;34m)\u001b[0m\u001b[0;34m\u001b[0m\u001b[0;34m\u001b[0m\u001b[0m\n\u001b[1;32m   1559\u001b[0m                 \u001b[0;32mreturn\u001b[0m \u001b[0mimread\u001b[0m\u001b[0;34m(\u001b[0m\u001b[0mresponse\u001b[0m\u001b[0;34m,\u001b[0m \u001b[0mformat\u001b[0m\u001b[0;34m=\u001b[0m\u001b[0mext\u001b[0m\u001b[0;34m)\u001b[0m\u001b[0;34m\u001b[0m\u001b[0;34m\u001b[0m\u001b[0m\n\u001b[0;32m-> 1560\u001b[0;31m     \u001b[0;32mwith\u001b[0m \u001b[0mimg_open\u001b[0m\u001b[0;34m(\u001b[0m\u001b[0mfname\u001b[0m\u001b[0;34m)\u001b[0m \u001b[0;32mas\u001b[0m \u001b[0mimage\u001b[0m\u001b[0;34m:\u001b[0m\u001b[0;34m\u001b[0m\u001b[0;34m\u001b[0m\u001b[0m\n\u001b[0m\u001b[1;32m   1561\u001b[0m         return (_pil_png_to_float_array(image)\n\u001b[1;32m   1562\u001b[0m                 \u001b[0;32mif\u001b[0m \u001b[0misinstance\u001b[0m\u001b[0;34m(\u001b[0m\u001b[0mimage\u001b[0m\u001b[0;34m,\u001b[0m \u001b[0mPIL\u001b[0m\u001b[0;34m.\u001b[0m\u001b[0mPngImagePlugin\u001b[0m\u001b[0;34m.\u001b[0m\u001b[0mPngImageFile\u001b[0m\u001b[0;34m)\u001b[0m \u001b[0;32melse\u001b[0m\u001b[0;34m\u001b[0m\u001b[0;34m\u001b[0m\u001b[0m\n",
      "\u001b[0;32m/opt/conda/lib/python3.7/site-packages/PIL/Image.py\u001b[0m in \u001b[0;36mopen\u001b[0;34m(fp, mode, formats)\u001b[0m\n\u001b[1;32m   2910\u001b[0m \u001b[0;34m\u001b[0m\u001b[0m\n\u001b[1;32m   2911\u001b[0m     \u001b[0;32mif\u001b[0m \u001b[0mfilename\u001b[0m\u001b[0;34m:\u001b[0m\u001b[0;34m\u001b[0m\u001b[0;34m\u001b[0m\u001b[0m\n\u001b[0;32m-> 2912\u001b[0;31m         \u001b[0mfp\u001b[0m \u001b[0;34m=\u001b[0m \u001b[0mbuiltins\u001b[0m\u001b[0;34m.\u001b[0m\u001b[0mopen\u001b[0m\u001b[0;34m(\u001b[0m\u001b[0mfilename\u001b[0m\u001b[0;34m,\u001b[0m \u001b[0;34m\"rb\"\u001b[0m\u001b[0;34m)\u001b[0m\u001b[0;34m\u001b[0m\u001b[0;34m\u001b[0m\u001b[0m\n\u001b[0m\u001b[1;32m   2913\u001b[0m         \u001b[0mexclusive_fp\u001b[0m \u001b[0;34m=\u001b[0m \u001b[0;32mTrue\u001b[0m\u001b[0;34m\u001b[0m\u001b[0;34m\u001b[0m\u001b[0m\n\u001b[1;32m   2914\u001b[0m \u001b[0;34m\u001b[0m\u001b[0m\n",
      "\u001b[0;31mFileNotFoundError\u001b[0m: [Errno 2] No such file or directory: 'runs/train/yolov5s_results/train_batch0.jpg'"
     ]
    }
   ],
   "source": [
    "img = plt.imread('runs/train/yolov5s_results/train_batch0.jpg')\n",
    "plt.figure(figsize=(20,15))\n",
    "plt.imshow(img)\n",
    "plt.axis('off')\n",
    "plt.show()"
   ]
  },
  {
   "cell_type": "markdown",
   "metadata": {},
   "source": [
    "# Test the Model\n",
    "lets test the model over test images we had separated before training"
   ]
  },
  {
   "cell_type": "code",
   "execution_count": null,
   "metadata": {
    "_kg_hide-output": true,
    "execution": {
     "iopub.status.busy": "2022-12-03T06:25:35.758365Z",
     "iopub.status.idle": "2022-12-03T06:25:35.758694Z",
     "shell.execute_reply": "2022-12-03T06:25:35.758547Z",
     "shell.execute_reply.started": "2022-12-03T06:25:35.758529Z"
    }
   },
   "outputs": [],
   "source": [
    "!python detect.py --source data/test/images/ --weight runs/train/yolov5s_results/weights/best.pt --name expTestImage --conf 0.4"
   ]
  },
  {
   "cell_type": "markdown",
   "metadata": {},
   "source": [
    "results are saved inside run/detect/expTestImage dir <br>\n",
    "let's check the results to see how our model performed"
   ]
  },
  {
   "cell_type": "code",
   "execution_count": null,
   "metadata": {
    "execution": {
     "iopub.status.busy": "2022-12-03T06:25:35.760390Z",
     "iopub.status.idle": "2022-12-03T06:25:35.760762Z",
     "shell.execute_reply": "2022-12-03T06:25:35.760609Z",
     "shell.execute_reply.started": "2022-12-03T06:25:35.760591Z"
    }
   },
   "outputs": [],
   "source": [
    "color_dict = {\n",
    "    'with_mask': (0, 255, 0),\n",
    "    'mask_weared_incorrect':  (0, 0, 255),\n",
    "    'without_mask': (255, 0, 0) \n",
    "}"
   ]
  },
  {
   "cell_type": "code",
   "execution_count": null,
   "metadata": {
    "execution": {
     "iopub.status.busy": "2022-12-03T06:25:35.761630Z",
     "iopub.status.idle": "2022-12-03T06:25:35.762363Z",
     "shell.execute_reply": "2022-12-03T06:25:35.762202Z",
     "shell.execute_reply.started": "2022-12-03T06:25:35.762180Z"
    }
   },
   "outputs": [],
   "source": [
    "def show_image(img_id):\n",
    "    df_image = df[df.file==img_id]\n",
    "    df_image[['xmin', 'ymin', 'xmax', 'ymax']] = df_image[['xmin', 'ymin', 'xmax', 'ymax']].astype('int64')\n",
    "    path = 'data/test/images/'+img_id# +'.png'\n",
    "    img = plt.imread(path)\n",
    "\n",
    "    imge = img.copy()\n",
    "\n",
    "    for index in range(len(df_image)):\n",
    "        row = df_image.iloc[index]\n",
    "        cv2.rectangle(imge, \n",
    "                      (row['xmin'], row['ymin']),\n",
    "                      (row['xmax'], row['ymax']),\n",
    "                      color=color_dict[row['name']],\n",
    "                      thickness=2)\n",
    "\n",
    "    img_pred = plt.imread('runs/detect/expTestImage/'+img_id)\n",
    "    # ===================================\n",
    "    plt.figure(figsize=(14,17))\n",
    "\n",
    "    plt.subplot(1,2,1)\n",
    "    plt.imshow(imge)\n",
    "    plt.axis('off')\n",
    "    plt.title('Image with Truth Box')\n",
    "\n",
    "    plt.subplot(1,2,2)\n",
    "    plt.imshow(img_pred)\n",
    "    plt.axis('off')\n",
    "    plt.title('Image with Predicted Box')"
   ]
  },
  {
   "cell_type": "code",
   "execution_count": null,
   "metadata": {
    "execution": {
     "iopub.status.busy": "2022-12-03T06:25:35.763256Z",
     "iopub.status.idle": "2022-12-03T06:25:35.763563Z",
     "shell.execute_reply": "2022-12-03T06:25:35.763421Z",
     "shell.execute_reply.started": "2022-12-03T06:25:35.763405Z"
    }
   },
   "outputs": [],
   "source": [
    "import os, random\n",
    "show_image(random.choice(os.listdir(\"data/test/images/\"))) \n",
    "show_image(random.choice(os.listdir(\"data/test/images/\"))) \n",
    "plt.show()"
   ]
  },
  {
   "cell_type": "markdown",
   "metadata": {},
   "source": [
    "# END"
   ]
  }
 ],
 "metadata": {
  "kernelspec": {
   "display_name": "Python 3 (ipykernel)",
   "language": "python",
   "name": "python3"
  },
  "language_info": {
   "codemirror_mode": {
    "name": "ipython",
    "version": 3
   },
   "file_extension": ".py",
   "mimetype": "text/x-python",
   "name": "python",
   "nbconvert_exporter": "python",
   "pygments_lexer": "ipython3",
   "version": "3.9.13"
  }
 },
 "nbformat": 4,
 "nbformat_minor": 4
}
